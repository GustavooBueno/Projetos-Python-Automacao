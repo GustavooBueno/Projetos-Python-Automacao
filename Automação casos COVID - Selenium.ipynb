{
 "cells": [
  {
   "cell_type": "code",
   "execution_count": 1,
   "id": "0b5654da",
   "metadata": {},
   "outputs": [
    {
     "name": "stdout",
     "output_type": "stream",
     "text": [
      "Casos Confirmados: 222.960.603\n",
      "Recuperados: 199.492.744\n",
      "Mortes: 4.603.831\n"
     ]
    }
   ],
   "source": [
    "from selenium import webdriver\n",
    "from time import sleep\n",
    "from selenium.webdriver.chrome.options import Options\n",
    "import os\n",
    "\n",
    "url = 'https://www.coronatracker.com/pt-br'\n",
    "\n",
    "driver = webdriver.Chrome()\n",
    "driver.get(url)\n",
    "\n",
    "sleep(5)\n",
    "save = driver.find_element_by_xpath('//*[@id=\"__layout\"]/div/main/div/div[1]/div[1]/div[1]/div[2]/div[2]/div[1]/span')\n",
    "death = driver.find_element_by_xpath('//*[@id=\"__layout\"]/div/main/div/div[1]/div[1]/div[1]/div[2]/div[3]/div[1]/span')\n",
    "cases = driver.find_element_by_xpath('//*[@id=\"__layout\"]/div/main/div/div[1]/div[1]/div[1]/div[2]/div[1]/div[1]/span')\n",
    "\n",
    "savetext = save.text\n",
    "deathtext = death.text\n",
    "casestext = cases.text\n",
    "\n",
    "print(f'Casos Confirmados: {casestext}')\n",
    "print(f'Recuperados: {savetext}')\n",
    "print(f'Mortes: {deathtext}')"
   ]
  },
  {
   "cell_type": "code",
   "execution_count": null,
   "id": "5c3d74f5",
   "metadata": {},
   "outputs": [],
   "source": []
  },
  {
   "cell_type": "code",
   "execution_count": null,
   "id": "6593f419",
   "metadata": {},
   "outputs": [],
   "source": []
  }
 ],
 "metadata": {
  "kernelspec": {
   "display_name": "Python 3",
   "language": "python",
   "name": "python3"
  },
  "language_info": {
   "codemirror_mode": {
    "name": "ipython",
    "version": 3
   },
   "file_extension": ".py",
   "mimetype": "text/x-python",
   "name": "python",
   "nbconvert_exporter": "python",
   "pygments_lexer": "ipython3",
   "version": "3.8.8"
  }
 },
 "nbformat": 4,
 "nbformat_minor": 5
}
